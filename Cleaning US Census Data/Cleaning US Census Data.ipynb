{
 "cells": [
  {
   "cell_type": "markdown",
   "metadata": {},
   "source": [
    "# Cleaning US Census Data"
   ]
  },
  {
   "cell_type": "markdown",
   "metadata": {},
   "source": [
    "You just got hired as a Data Analyst at the Census Bureau, which collects census data and creates interesting visualizations and insights from it.\n",
    "\n",
    "The person who had your job before you left you all the data they had for the most recent census. It is in multiple `csv` files. They didn't use pandas, they would just look through these `csv` files manually whenever they wanted to find something. Sometimes they would copy and paste certain numbers into Excel to make charts.\n",
    "\n",
    "The thought of it makes you shiver. This is not scalable or repeatable.\n",
    "\n",
    "Your boss wants you to make some scatterplots and histograms by the end of the day. Can you get this data into `pandas` and into reasonable shape so that you can make these histograms?"
   ]
  },
  {
   "cell_type": "markdown",
   "metadata": {},
   "source": [
    "## Inspect the Data!"
   ]
  },
  {
   "cell_type": "markdown",
   "metadata": {},
   "source": [
    "1. The first visualization your boss wants you to make is a scatterplot that shows average income in a state vs proportion of women in that state.\n",
    "\n",
    "   Open some of the census `csv` files that came with the kit you downloaded. How are they named? What kind of information do they hold? Will they help us make this graph?"
   ]
  },
  {
   "cell_type": "code",
   "execution_count": null,
   "metadata": {},
   "outputs": [],
   "source": [
    "#State,TotalPop,Hispanic,White,Black,Native,Asian,Pacific,Income,GenderPop\n",
    "#GenderPop will need to be parsed but the data is there"
   ]
  },
  {
   "cell_type": "markdown",
   "metadata": {},
   "source": [
    "2. It will be easier to inspect this data once we have it in a DataFrame. You can't even call `.head()` on these `csv`s! How are you supposed to read them?\n",
    "\n",
    "   Using `glob`, loop through the census files available and load them into DataFrames. Then, concatenate all of those DataFrames together into one DataFrame, called something like `us_census`."
   ]
  },
  {
   "cell_type": "code",
   "execution_count": 56,
   "metadata": {},
   "outputs": [
    {
     "name": "stdout",
     "output_type": "stream",
     "text": [
      "60\n",
      "   Unnamed: 0           State  TotalPop Hispanic   White   Black Native  \\\n",
      "0           0    Rhode Island   1053661   13.36%  74.33%   5.68%  0.35%   \n",
      "1           1  South Carolina   4777576    5.06%  62.89%  28.75%  0.29%   \n",
      "2           2    South Dakota    843190    3.24%  82.50%   1.42%  9.42%   \n",
      "3           3       Tennessee   6499615    4.72%  73.49%  18.28%  0.23%   \n",
      "4           4           Texas  26538614   38.05%  44.69%  11.65%  0.26%   \n",
      "\n",
      "   Asian Pacific       Income            GenderPop  \n",
      "0  3.25%   0.04%  $59,125.27       510388M_543273F  \n",
      "1  1.25%   0.05%  $46,296.81     2322409M_2455167F  \n",
      "2  1.02%   0.04%  $51,805.41       423477M_419713F  \n",
      "3  1.41%   0.04%  $47,328.08     3167756M_3331859F  \n",
      "4  3.67%   0.07%  $55,874.52   13171316M_13367298F  \n"
     ]
    }
   ],
   "source": [
    "import pandas as pd\n",
    "import numpy as np\n",
    "import matplotlib.pyplot as plt\n",
    "import seaborn as sns\n",
    "import glob\n",
    "\n",
    "census_files = glob.glob('states*.csv')\n",
    "\n",
    "df_list = []\n",
    "for filename in census_files:\n",
    "  data = pd.read_csv(filename)\n",
    "  df_list.append(data)\n",
    "\n",
    "us_census = pd.concat(df_list)\n",
    "\n",
    "print(len(us_census))\n",
    "\n",
    "print(us_census.head())"
   ]
  },
  {
   "cell_type": "markdown",
   "metadata": {},
   "source": [
    "3. Look at the `.columns` and the `.dtypes` of the `us_census` DataFrame. Are those datatypes going to hinder you as you try to make histograms?"
   ]
  },
  {
   "cell_type": "code",
   "execution_count": 57,
   "metadata": {},
   "outputs": [
    {
     "name": "stdout",
     "output_type": "stream",
     "text": [
      "['Unnamed: 0', 'State', 'TotalPop', 'Hispanic', 'White', 'Black', 'Native', 'Asian', 'Pacific', 'Income', 'GenderPop']\n",
      "Unnamed: 0     int64\n",
      "State         object\n",
      "TotalPop       int64\n",
      "Hispanic      object\n",
      "White         object\n",
      "Black         object\n",
      "Native        object\n",
      "Asian         object\n",
      "Pacific       object\n",
      "Income        object\n",
      "GenderPop     object\n",
      "dtype: object\n"
     ]
    }
   ],
   "source": [
    "print(list(us_census.columns))\n",
    "print(us_census.dtypes)"
   ]
  },
  {
   "cell_type": "markdown",
   "metadata": {},
   "source": [
    "4. Look at the `head()` of the DataFrame so that you can understand why some of these `dtypes` are objects instead of integers or floats.\n",
    "\n",
    "   Start to make a plan for how to convert these columns into the right types for manipulation."
   ]
  },
  {
   "cell_type": "code",
   "execution_count": 58,
   "metadata": {},
   "outputs": [
    {
     "name": "stdout",
     "output_type": "stream",
     "text": [
      "   Unnamed: 0           State  TotalPop Hispanic   White   Black Native  \\\n",
      "0           0    Rhode Island   1053661   13.36%  74.33%   5.68%  0.35%   \n",
      "1           1  South Carolina   4777576    5.06%  62.89%  28.75%  0.29%   \n",
      "2           2    South Dakota    843190    3.24%  82.50%   1.42%  9.42%   \n",
      "3           3       Tennessee   6499615    4.72%  73.49%  18.28%  0.23%   \n",
      "4           4           Texas  26538614   38.05%  44.69%  11.65%  0.26%   \n",
      "\n",
      "   Asian Pacific       Income            GenderPop  \n",
      "0  3.25%   0.04%  $59,125.27       510388M_543273F  \n",
      "1  1.25%   0.05%  $46,296.81     2322409M_2455167F  \n",
      "2  1.02%   0.04%  $51,805.41       423477M_419713F  \n",
      "3  1.41%   0.04%  $47,328.08     3167756M_3331859F  \n",
      "4  3.67%   0.07%  $55,874.52   13171316M_13367298F  \n"
     ]
    }
   ],
   "source": [
    "print(us_census.head())"
   ]
  },
  {
   "cell_type": "markdown",
   "metadata": {},
   "source": [
    "## Regex to the Rescue"
   ]
  },
  {
   "cell_type": "markdown",
   "metadata": {},
   "source": [
    "5. Use regex to turn the `Income` column into a format that is ready for conversion into a numerical type."
   ]
  },
  {
   "cell_type": "code",
   "execution_count": 59,
   "metadata": {},
   "outputs": [
    {
     "name": "stdout",
     "output_type": "stream",
     "text": [
      "   Unnamed: 0           State  TotalPop Hispanic   White   Black Native  \\\n",
      "0           0    Rhode Island   1053661   13.36%  74.33%   5.68%  0.35%   \n",
      "1           1  South Carolina   4777576    5.06%  62.89%  28.75%  0.29%   \n",
      "2           2    South Dakota    843190    3.24%  82.50%   1.42%  9.42%   \n",
      "3           3       Tennessee   6499615    4.72%  73.49%  18.28%  0.23%   \n",
      "4           4           Texas  26538614   38.05%  44.69%  11.65%  0.26%   \n",
      "\n",
      "   Asian Pacific     Income            GenderPop  \n",
      "0  3.25%   0.04%  59125.27       510388M_543273F  \n",
      "1  1.25%   0.05%  46296.81     2322409M_2455167F  \n",
      "2  1.02%   0.04%  51805.41       423477M_419713F  \n",
      "3  1.41%   0.04%  47328.08     3167756M_3331859F  \n",
      "4  3.67%   0.07%  55874.52   13171316M_13367298F  \n"
     ]
    }
   ],
   "source": [
    "us_census.Income = us_census['Income'].replace('[\\$,]','', regex=True)\n",
    "\n",
    "print(us_census.head())"
   ]
  },
  {
   "cell_type": "markdown",
   "metadata": {},
   "source": [
    "6. Look at the `GenderPop` column. We are going to want to separate this into two columns, the `Men` column, and the `Women` column.\n",
    "\n",
    "   Split the column into those two new columns using `str.split` and separating out those results."
   ]
  },
  {
   "cell_type": "code",
   "execution_count": 60,
   "metadata": {},
   "outputs": [
    {
     "name": "stdout",
     "output_type": "stream",
     "text": [
      "   Unnamed: 0           State  TotalPop Hispanic   White   Black Native  \\\n",
      "0           0    Rhode Island   1053661   13.36%  74.33%   5.68%  0.35%   \n",
      "1           1  South Carolina   4777576    5.06%  62.89%  28.75%  0.29%   \n",
      "2           2    South Dakota    843190    3.24%  82.50%   1.42%  9.42%   \n",
      "3           3       Tennessee   6499615    4.72%  73.49%  18.28%  0.23%   \n",
      "4           4           Texas  26538614   38.05%  44.69%  11.65%  0.26%   \n",
      "\n",
      "   Asian Pacific     Income            GenderPop        Men      Women  \n",
      "0  3.25%   0.04%  59125.27       510388M_543273F    510388M    543273F  \n",
      "1  1.25%   0.05%  46296.81     2322409M_2455167F   2322409M   2455167F  \n",
      "2  1.02%   0.04%  51805.41       423477M_419713F    423477M    419713F  \n",
      "3  1.41%   0.04%  47328.08     3167756M_3331859F   3167756M   3331859F  \n",
      "4  3.67%   0.07%  55874.52   13171316M_13367298F  13171316M  13367298F  \n"
     ]
    }
   ],
   "source": [
    "gender_split = us_census['GenderPop'].str.split('_')\n",
    "us_census['Men'] = gender_split.str.get(0)\n",
    "us_census['Women'] = gender_split.str.get(1)\n",
    "\n",
    "print(us_census.head())"
   ]
  },
  {
   "cell_type": "markdown",
   "metadata": {},
   "source": [
    "7. Convert both of the columns into numerical datatypes.\n",
    "\n",
    "   There is still an `M` or an `F` character in each entry! We should remove those before we convert."
   ]
  },
  {
   "cell_type": "code",
   "execution_count": 61,
   "metadata": {},
   "outputs": [
    {
     "name": "stdout",
     "output_type": "stream",
     "text": [
      "   Unnamed: 0           State  TotalPop Hispanic   White   Black Native  \\\n",
      "0           0    Rhode Island   1053661   13.36%  74.33%   5.68%  0.35%   \n",
      "1           1  South Carolina   4777576    5.06%  62.89%  28.75%  0.29%   \n",
      "2           2    South Dakota    843190    3.24%  82.50%   1.42%  9.42%   \n",
      "3           3       Tennessee   6499615    4.72%  73.49%  18.28%  0.23%   \n",
      "4           4           Texas  26538614   38.05%  44.69%  11.65%  0.26%   \n",
      "\n",
      "   Asian Pacific    Income            GenderPop       Men       Women  \n",
      "0  3.25%   0.04%  59125.27      510388M_543273F    510388    543273.0  \n",
      "1  1.25%   0.05%  46296.81    2322409M_2455167F   2322409   2455167.0  \n",
      "2  1.02%   0.04%  51805.41      423477M_419713F    423477    419713.0  \n",
      "3  1.41%   0.04%  47328.08    3167756M_3331859F   3167756   3331859.0  \n",
      "4  3.67%   0.07%  55874.52  13171316M_13367298F  13171316  13367298.0  \n"
     ]
    }
   ],
   "source": [
    "us_census.Income = pd.to_numeric(us_census.Income)\n",
    "\n",
    "us_census['Men'] = us_census['Men'].str.split('(\\d+)', expand=True)[1]\n",
    "us_census['Women'] = us_census['Women'].str.split('(\\d+)', expand=True)[1]\n",
    "\n",
    "us_census.Men = pd.to_numeric(us_census.Men)\n",
    "us_census.Women = pd.to_numeric(us_census.Women)\n",
    "\n",
    "print(us_census.head())"
   ]
  },
  {
   "cell_type": "markdown",
   "metadata": {},
   "source": [
    "8. Now you should have the columns you need to make the graph and make sure your boss does not slam a ruler angrily on your desk because you've wasted your whole day cleaning your data with no results to show!\n",
    "\n",
    "   Use matplotlib to make a scatterplot!\n",
    "   \n",
    "   ```py\n",
    "   plt.scatter(the_women_column, the_income_column)\n",
    "   ```\n",
    "   \n",
    "   Remember to call `plt.show()` to see the graph!"
   ]
  },
  {
   "cell_type": "code",
   "execution_count": 62,
   "metadata": {},
   "outputs": [
    {
     "data": {
      "image/png": "[encoded data removed]",
      "text/plain": [
       "<Figure size 640x480 with 1 Axes>"
      ]
     },
     "metadata": {},
     "output_type": "display_data"
    },
    {
     "data": {
      "text/plain": [
       "<Figure size 640x480 with 0 Axes>"
      ]
     },
     "metadata": {},
     "output_type": "display_data"
    }
   ],
   "source": [
    "plt.scatter(us_census.Women, us_census.Income)\n",
    "plt.show()\n",
    "plt.clf()"
   ]
  },
  {
   "cell_type": "markdown",
   "metadata": {},
   "source": [
    "9. You want to double check your work. You know from experience that these monstrous csv files probably have `nan` values in them! Print out your column with the number of women per state to see.\n",
    "\n",
    "   We can fill in those `nan`s by using pandas' `.fillna()` function.\n",
    "   \n",
    "   You have the `TotalPop` per state, and you have the `Men` per state. As an estimate for the `nan` values in the `Women` column, you could use the `TotalPop` of that state minus the `Men` for that state.\n",
    "   \n",
    "   Print out the `Women` column after filling the `nan` values to see if it worked!"
   ]
  },
  {
   "cell_type": "code",
   "execution_count": 63,
   "metadata": {},
   "outputs": [
    {
     "name": "stdout",
     "output_type": "stream",
     "text": [
      "0      543273.0\n",
      "1     2455167.0\n",
      "2      419713.0\n",
      "3     3331859.0\n",
      "4    13367298.0\n",
      "5     1444150.0\n",
      "0     1444150.0\n",
      "1      318031.0\n",
      "2     4195682.0\n",
      "3     3497739.0\n",
      "4      937789.0\n",
      "5     2890732.0\n",
      "0           NaN\n",
      "1     3455936.0\n",
      "2     5038598.0\n",
      "3     2727005.0\n",
      "4     1536358.0\n",
      "5     3081445.0\n",
      "0     3081445.0\n",
      "1           NaN\n",
      "2      939759.0\n",
      "3     1390901.0\n",
      "4      670717.0\n",
      "5     4561386.0\n",
      "0     5913084.0\n",
      "1     1942789.0\n",
      "2     1990780.0\n",
      "3     6534215.0\n",
      "4     1869213.0\n",
      "5      543273.0\n",
      "0     4561386.0\n",
      "1     1051703.0\n",
      "2    10131373.0\n",
      "3     5049925.0\n",
      "4      353677.0\n",
      "5     5913084.0\n",
      "0     5123362.0\n",
      "1      696428.0\n",
      "2      806083.0\n",
      "3     6556862.0\n",
      "4     3333382.0\n",
      "5     1558931.0\n",
      "0     1558931.0\n",
      "1     1453125.0\n",
      "2     2233145.0\n",
      "3     2364097.0\n",
      "4      679019.0\n",
      "5           NaN\n",
      "0     2630239.0\n",
      "1     1841615.0\n",
      "2      478041.0\n",
      "3      340810.0\n",
      "4    10045763.0\n",
      "5     5123362.0\n",
      "0     2489527.0\n",
      "1      349215.0\n",
      "2     3342840.0\n",
      "3     1506295.0\n",
      "4    19334329.0\n",
      "5     2630239.0\n",
      "Name: Women, dtype: float64\n",
      "0      543273.0\n",
      "1     2455167.0\n",
      "2      419713.0\n",
      "3     3331859.0\n",
      "4    13367298.0\n",
      "5     1444150.0\n",
      "0     1444150.0\n",
      "1      318031.0\n",
      "2     4195682.0\n",
      "3     3497739.0\n",
      "4      937789.0\n",
      "5     2890732.0\n",
      "0     3057895.0\n",
      "1     3455936.0\n",
      "2     5038598.0\n",
      "3     2727005.0\n",
      "4     1536358.0\n",
      "5     3081445.0\n",
      "0     3081445.0\n",
      "1      504536.0\n",
      "2      939759.0\n",
      "3     1390901.0\n",
      "4      670717.0\n",
      "5     4561386.0\n",
      "0     5913084.0\n",
      "1     1942789.0\n",
      "2     1990780.0\n",
      "3     6534215.0\n",
      "4     1869213.0\n",
      "5      543273.0\n",
      "0     4561386.0\n",
      "1     1051703.0\n",
      "2    10131373.0\n",
      "3     5049925.0\n",
      "4      353677.0\n",
      "5     5913084.0\n",
      "0     5123362.0\n",
      "1      696428.0\n",
      "2      806083.0\n",
      "3     6556862.0\n",
      "4     3333382.0\n",
      "5     1558931.0\n",
      "0     1558931.0\n",
      "1     1453125.0\n",
      "2     2233145.0\n",
      "3     2364097.0\n",
      "4      679019.0\n",
      "5     3057895.0\n",
      "0     2630239.0\n",
      "1     1841615.0\n",
      "2      478041.0\n",
      "3      340810.0\n",
      "4    10045763.0\n",
      "5     5123362.0\n",
      "0     2489527.0\n",
      "1      349215.0\n",
      "2     3342840.0\n",
      "3     1506295.0\n",
      "4    19334329.0\n",
      "5     2630239.0\n",
      "Name: Women, dtype: float64\n"
     ]
    }
   ],
   "source": [
    "print(us_census.Women)\n",
    "\n",
    "us_census = us_census.fillna(value={'Women': (us_census.TotalPop-us_census.Men)})\n",
    "\n",
    "print(us_census.Women)"
   ]
  },
  {
   "cell_type": "markdown",
   "metadata": {},
   "source": [
    "10. We forgot to check for duplicates! Use `.duplicated()` on your `census` DataFrame to see if we have duplicate rows in there."
   ]
  },
  {
   "cell_type": "code",
   "execution_count": 64,
   "metadata": {},
   "outputs": [
    {
     "name": "stdout",
     "output_type": "stream",
     "text": [
      "False    60\n",
      "Name: count, dtype: int64\n",
      "['Unnamed: 0', 'State', 'TotalPop', 'Hispanic', 'White', 'Black', 'Native', 'Asian', 'Pacific', 'Income', 'GenderPop', 'Men', 'Women']\n"
     ]
    }
   ],
   "source": [
    "duplicates = us_census.duplicated()\n",
    "print(duplicates.value_counts())\n",
    "\n",
    "print(list(us_census.columns))\n"
   ]
  },
  {
   "cell_type": "markdown",
   "metadata": {},
   "source": [
    "11. Drop those duplicates using the `.drop_duplicates()` function."
   ]
  },
  {
   "cell_type": "code",
   "execution_count": 65,
   "metadata": {},
   "outputs": [
    {
     "name": "stdout",
     "output_type": "stream",
     "text": [
      "['State', 'TotalPop', 'Hispanic', 'White', 'Black', 'Native', 'Asian', 'Pacific', 'Income', 'GenderPop', 'Men', 'Women']\n",
      "60\n",
      "False    51\n",
      "True      9\n",
      "Name: count, dtype: int64\n",
      "51\n",
      "False    51\n",
      "Name: count, dtype: int64\n"
     ]
    }
   ],
   "source": [
    "us_census.drop('Unnamed: 0', axis=1, inplace=True)\n",
    "\n",
    "print(list(us_census.columns))\n",
    "print(len(us_census))\n",
    "duplicates = us_census.duplicated()\n",
    "print(duplicates.value_counts())\n",
    "#print(us_census)\n",
    "\n",
    "us_census = us_census.drop_duplicates(subset=['State'])\n",
    "print(len(us_census))\n",
    "duplicates = us_census.duplicated()\n",
    "print(duplicates.value_counts())\n",
    "#print(us_census)"
   ]
  },
  {
   "cell_type": "markdown",
   "metadata": {},
   "source": [
    "12. Make the scatterplot again. Now, it should be perfect! Your job is secure, for now."
   ]
  },
  {
   "cell_type": "code",
   "execution_count": 66,
   "metadata": {},
   "outputs": [
    {
     "data": {
      "image/png": "[encoded data removed]",
      "text/plain": [
       "<Figure size 640x480 with 1 Axes>"
      ]
     },
     "metadata": {},
     "output_type": "display_data"
    },
    {
     "data": {
      "text/plain": [
       "<Figure size 640x480 with 0 Axes>"
      ]
     },
     "metadata": {},
     "output_type": "display_data"
    }
   ],
   "source": [
    "plt.scatter(us_census.Women, us_census.Income)\n",
    "plt.show()\n",
    "plt.clf()"
   ]
  },
  {
   "cell_type": "markdown",
   "metadata": {},
   "source": [
    "## Histogram of Races"
   ]
  },
  {
   "cell_type": "markdown",
   "metadata": {},
   "source": [
    "13. Now your boss wants you to make a bunch of histograms out of the race data that you have. Look at the `.columns` again to see what the race categories are."
   ]
  },
  {
   "cell_type": "code",
   "execution_count": 67,
   "metadata": {},
   "outputs": [
    {
     "name": "stdout",
     "output_type": "stream",
     "text": [
      "['State', 'TotalPop', 'Hispanic', 'White', 'Black', 'Native', 'Asian', 'Pacific', 'Income', 'GenderPop', 'Men', 'Women']\n",
      "            State  TotalPop Hispanic   White   Black Native  Asian Pacific  \\\n",
      "0    Rhode Island   1053661   13.36%  74.33%   5.68%  0.35%  3.25%   0.04%   \n",
      "1  South Carolina   4777576    5.06%  62.89%  28.75%  0.29%  1.25%   0.05%   \n",
      "2    South Dakota    843190    3.24%  82.50%   1.42%  9.42%  1.02%   0.04%   \n",
      "3       Tennessee   6499615    4.72%  73.49%  18.28%  0.23%  1.41%   0.04%   \n",
      "4           Texas  26538614   38.05%  44.69%  11.65%  0.26%  3.67%   0.07%   \n",
      "\n",
      "     Income            GenderPop       Men       Women  \n",
      "0  59125.27      510388M_543273F    510388    543273.0  \n",
      "1  46296.81    2322409M_2455167F   2322409   2455167.0  \n",
      "2  51805.41      423477M_419713F    423477    419713.0  \n",
      "3  47328.08    3167756M_3331859F   3167756   3331859.0  \n",
      "4  55874.52  13171316M_13367298F  13171316  13367298.0  \n"
     ]
    }
   ],
   "source": [
    "print(list(us_census.columns))\n",
    "print(us_census.head())"
   ]
  },
  {
   "cell_type": "markdown",
   "metadata": {},
   "source": [
    "14. Try to make a histogram for each one!\n",
    "\n",
    "    You will have to get the columns into the numerical format, and those percentage signs will have to go.\n",
    "    \n",
    "    Don't forget to fill the `nan` values with something that makes sense! You probably dropped the duplicate rows when making your last graph, but it couldn't hurt to check for duplicates again."
   ]
  },
  {
   "cell_type": "code",
   "execution_count": 68,
   "metadata": {},
   "outputs": [
    {
     "name": "stdout",
     "output_type": "stream",
     "text": [
      "                  State  TotalPop Hispanic  White  Black Native  Asian  \\\n",
      "0          Rhode Island   1053661    13.36  74.33   5.68   0.35   3.25   \n",
      "1        South Carolina   4777576     5.06  62.89  28.75   0.29   1.25   \n",
      "2          South Dakota    843190     3.24  82.50   1.42   9.42   1.02   \n",
      "3             Tennessee   6499615     4.72  73.49  18.28   0.23   1.41   \n",
      "4                 Texas  26538614    38.05  44.69  11.65   0.26   3.67   \n",
      "5                  Utah   2903379    13.47  79.41   1.02   1.08   2.20   \n",
      "1               Vermont    626604     1.61  93.98   0.98   0.30   1.24   \n",
      "2              Virginia   8256630     8.01  63.27  20.18   0.21   5.46   \n",
      "3            Washington   6985464    11.14  72.04   3.38   1.41   7.02   \n",
      "4         West Virginia   1851420     1.29  92.18   3.66   0.15   0.68   \n",
      "5             Wisconsin   5742117     6.68  79.86   8.20   0.95   2.40   \n",
      "0              Maryland   5930538     8.47  52.68  30.68   0.20   5.33   \n",
      "1         Massachusetts   6705586    11.46  73.04   6.83   0.13   5.84   \n",
      "2              Michigan   9900571     4.63  72.38  17.63   0.48   2.42   \n",
      "3             Minnesota   5419171     5.15  81.43   5.66   1.07   4.16   \n",
      "4           Mississippi   2988081     2.84  53.29  41.49   0.39   0.88   \n",
      "5              Missouri   6045448     4.04  77.51  14.12   0.36   1.62   \n",
      "1               Montana   1014699     3.27  86.42   0.43   7.06   0.57   \n",
      "2              Nebraska   1869365     9.20  81.14   4.96   0.86   1.86   \n",
      "3                Nevada   2798636    27.10  53.24   7.74   1.09   7.10   \n",
      "4         New Hampshire   1324201     3.32  91.32   1.23   0.14   2.19   \n",
      "5            New Jersey   8904413    18.75  56.49  14.39   0.12   8.16   \n",
      "0                  Ohio  11575977     3.67  75.90  16.21   0.17   1.62   \n",
      "1              Oklahoma   3849733    10.08  66.06   8.31   6.72   1.80   \n",
      "2                Oregon   3939233    11.44  78.40   1.73   1.00   3.59   \n",
      "3          Pennsylvania  12779559     6.13  77.38  11.63   0.12   2.80   \n",
      "4           Puerto Rico   3583073    98.89   0.77   0.09   0.00   0.08   \n",
      "1            New Mexico   2084117    45.28  40.70   1.76   9.25   1.23   \n",
      "2              New York  19673174    17.24  56.47  15.67   0.32   7.90   \n",
      "3        North Carolina   9845333     8.46  64.60  21.40   1.09   2.32   \n",
      "4          North Dakota    721640     2.83  87.45   1.28   5.65   0.96   \n",
      "0               Georgia  10006693     8.42  54.29  32.09   0.19   3.10   \n",
      "1                Hawaii   1406299     9.19  25.03   2.05   0.14  36.59   \n",
      "2                 Idaho   1616547    11.51  83.14   0.57   1.47   1.14   \n",
      "3              Illinois  12873761    15.60  60.86  17.11   0.12   4.48   \n",
      "4               Indiana   6568645     6.54  78.43  11.19   0.19   1.58   \n",
      "5                  Iowa   3093526     5.30  87.72   3.26   0.29   1.70   \n",
      "1                Kansas   2892987    11.64  75.96   6.57   0.73   2.33   \n",
      "2              Kentucky   4397353     3.22  85.23   8.27   0.17   1.13   \n",
      "3             Louisiana   4625253     4.87  54.98  36.33   0.48   1.67   \n",
      "4                 Maine   1329100     1.43  93.71   1.13   0.79   0.97   \n",
      "0              Colorado   5278906    20.78  69.90   3.55   0.57   2.66   \n",
      "1           Connecticut   3593222    15.60  67.68  10.35   0.13   4.02   \n",
      "2              Delaware    926454     8.82  64.63  20.74   0.26   3.27   \n",
      "3  District of Columbia    647484     9.17  33.10  51.78   0.20   3.38   \n",
      "4               Florida  19645772    21.34  59.08  15.17   0.21   2.28   \n",
      "0               Alabama   4830620     3.75  61.88  31.25   0.45   1.05   \n",
      "1                Alaska    733375     5.91  60.91   2.85  16.39   5.45   \n",
      "2               Arizona   6641928    29.57  57.12   3.85   4.36   2.88   \n",
      "3              Arkansas   2958208     6.22  71.14  18.97   0.52   1.14   \n",
      "4            California  38421464    37.29  40.22   5.68   0.41  13.05   \n",
      "\n",
      "  Pacific    Income            GenderPop       Men       Women  \n",
      "0    0.04  59125.27      510388M_543273F    510388    543273.0  \n",
      "1    0.05  46296.81    2322409M_2455167F   2322409   2455167.0  \n",
      "2    0.04  51805.41      423477M_419713F    423477    419713.0  \n",
      "3    0.04  47328.08    3167756M_3331859F   3167756   3331859.0  \n",
      "4    0.07  55874.52  13171316M_13367298F  13171316  13367298.0  \n",
      "5    0.83  63488.92    1459229M_1444150F   1459229   1444150.0  \n",
      "1    0.03  55602.97      308573M_318031F    308573    318031.0  \n",
      "2    0.06  72866.01    4060948M_4195682F   4060948   4195682.0  \n",
      "3    0.61  64493.77    3487725M_3497739F   3487725   3497739.0  \n",
      "4    0.03  41437.11      913631M_937789F    913631    937789.0  \n",
      "5    0.02  53898.89    2851385M_2890732F   2851385   2890732.0  \n",
      "0    0.04  78765.40           2872643M_F   2872643   3057895.0  \n",
      "1    0.02  72838.94    3249650M_3455936F   3249650   3455936.0  \n",
      "2    0.02  51201.83    4861973M_5038598F   4861973   5038598.0  \n",
      "3    0.03  62820.83    2692166M_2727005F   2692166   2727005.0  \n",
      "4    0.02  38909.92    1451723M_1536358F   1451723   1536358.0  \n",
      "5    0.10  49763.99    2964003M_3081445F   2964003   3081445.0  \n",
      "1    0.07  47645.68            510163M_F    510163    504536.0  \n",
      "2    0.06  55916.47      929606M_939759F    929606    939759.0  \n",
      "3    0.57  55526.53    1407735M_1390901F   1407735   1390901.0  \n",
      "4    0.02  68728.86      653484M_670717F    653484    670717.0  \n",
      "5    0.03  76581.08    4343027M_4561386F   4343027   4561386.0  \n",
      "0    0.02  49655.25    5662893M_5913084F   5662893   5913084.0  \n",
      "1    0.11  48100.85    1906944M_1942789F   1906944   1942789.0  \n",
      "2    0.35  54271.90    1948453M_1990780F   1948453   1990780.0  \n",
      "3    0.02  56170.46    6245344M_6534215F   6245344   6534215.0  \n",
      "4    0.00  20720.54    1713860M_1869213F   1713860   1869213.0  \n",
      "1    0.04  47329.97    1032414M_1051703F   1032414   1051703.0  \n",
      "2    0.02  64290.75   9541801M_10131373F   9541801  10131373.0  \n",
      "3    0.05  49937.46    4795408M_5049925F   4795408   5049925.0  \n",
      "4     NaN  58188.11      367963M_353677F    367963    353677.0  \n",
      "0    0.05  50811.08    4883331M_5123362F   4883331   5123362.0  \n",
      "1    8.76  73264.43      709871M_696428F    709871    696428.0  \n",
      "2    0.13  48017.32      810464M_806083F    810464    806083.0  \n",
      "3    0.02  59587.05    6316899M_6556862F   6316899   6556862.0  \n",
      "4    0.03  48616.23    3235263M_3333382F   3235263   3333382.0  \n",
      "5    0.06  53017.75    1534595M_1558931F   1534595   1558931.0  \n",
      "1     NaN  53885.61    1439862M_1453125F   1439862   1453125.0  \n",
      "2    0.05  45285.80    2164208M_2233145F   2164208   2233145.0  \n",
      "3    0.04  44957.99    2261156M_2364097F   2261156   2364097.0  \n",
      "4    0.02  49181.97      650081M_679019F    650081    679019.0  \n",
      "0     NaN  64657.80    2648667M_2630239F   2648667   2630239.0  \n",
      "1    0.02  76146.56    1751607M_1841615F   1751607   1841615.0  \n",
      "2     NaN  61827.98      448413M_478041F    448413    478041.0  \n",
      "3    0.03  75466.36      306674M_340810F    306674    340810.0  \n",
      "4    0.05  50690.19   9600009M_10045763F   9600009  10045763.0  \n",
      "0    0.03  43296.36    2341093M_2489527F   2341093   2489527.0  \n",
      "1    1.06  70354.74      384160M_349215F    384160    349215.0  \n",
      "2    0.17  54207.82    3299088M_3342840F   3299088   3342840.0  \n",
      "3    0.15  41935.63    1451913M_1506295F   1451913   1506295.0  \n",
      "4    0.35  67264.78  19087135M_19334329F  19087135  19334329.0  \n",
      "                  State  TotalPop  Hispanic  White  Black  Native  Asian  \\\n",
      "0          Rhode Island   1053661     13.36  74.33   5.68    0.35   3.25   \n",
      "1        South Carolina   4777576      5.06  62.89  28.75    0.29   1.25   \n",
      "2          South Dakota    843190      3.24  82.50   1.42    9.42   1.02   \n",
      "3             Tennessee   6499615      4.72  73.49  18.28    0.23   1.41   \n",
      "4                 Texas  26538614     38.05  44.69  11.65    0.26   3.67   \n",
      "5                  Utah   2903379     13.47  79.41   1.02    1.08   2.20   \n",
      "1               Vermont    626604      1.61  93.98   0.98    0.30   1.24   \n",
      "2              Virginia   8256630      8.01  63.27  20.18    0.21   5.46   \n",
      "3            Washington   6985464     11.14  72.04   3.38    1.41   7.02   \n",
      "4         West Virginia   1851420      1.29  92.18   3.66    0.15   0.68   \n",
      "5             Wisconsin   5742117      6.68  79.86   8.20    0.95   2.40   \n",
      "0              Maryland   5930538      8.47  52.68  30.68    0.20   5.33   \n",
      "1         Massachusetts   6705586     11.46  73.04   6.83    0.13   5.84   \n",
      "2              Michigan   9900571      4.63  72.38  17.63    0.48   2.42   \n",
      "3             Minnesota   5419171      5.15  81.43   5.66    1.07   4.16   \n",
      "4           Mississippi   2988081      2.84  53.29  41.49    0.39   0.88   \n",
      "5              Missouri   6045448      4.04  77.51  14.12    0.36   1.62   \n",
      "1               Montana   1014699      3.27  86.42   0.43    7.06   0.57   \n",
      "2              Nebraska   1869365      9.20  81.14   4.96    0.86   1.86   \n",
      "3                Nevada   2798636     27.10  53.24   7.74    1.09   7.10   \n",
      "4         New Hampshire   1324201      3.32  91.32   1.23    0.14   2.19   \n",
      "5            New Jersey   8904413     18.75  56.49  14.39    0.12   8.16   \n",
      "0                  Ohio  11575977      3.67  75.90  16.21    0.17   1.62   \n",
      "1              Oklahoma   3849733     10.08  66.06   8.31    6.72   1.80   \n",
      "2                Oregon   3939233     11.44  78.40   1.73    1.00   3.59   \n",
      "3          Pennsylvania  12779559      6.13  77.38  11.63    0.12   2.80   \n",
      "4           Puerto Rico   3583073     98.89   0.77   0.09    0.00   0.08   \n",
      "1            New Mexico   2084117     45.28  40.70   1.76    9.25   1.23   \n",
      "2              New York  19673174     17.24  56.47  15.67    0.32   7.90   \n",
      "3        North Carolina   9845333      8.46  64.60  21.40    1.09   2.32   \n",
      "4          North Dakota    721640      2.83  87.45   1.28    5.65   0.96   \n",
      "0               Georgia  10006693      8.42  54.29  32.09    0.19   3.10   \n",
      "1                Hawaii   1406299      9.19  25.03   2.05    0.14  36.59   \n",
      "2                 Idaho   1616547     11.51  83.14   0.57    1.47   1.14   \n",
      "3              Illinois  12873761     15.60  60.86  17.11    0.12   4.48   \n",
      "4               Indiana   6568645      6.54  78.43  11.19    0.19   1.58   \n",
      "5                  Iowa   3093526      5.30  87.72   3.26    0.29   1.70   \n",
      "1                Kansas   2892987     11.64  75.96   6.57    0.73   2.33   \n",
      "2              Kentucky   4397353      3.22  85.23   8.27    0.17   1.13   \n",
      "3             Louisiana   4625253      4.87  54.98  36.33    0.48   1.67   \n",
      "4                 Maine   1329100      1.43  93.71   1.13    0.79   0.97   \n",
      "0              Colorado   5278906     20.78  69.90   3.55    0.57   2.66   \n",
      "1           Connecticut   3593222     15.60  67.68  10.35    0.13   4.02   \n",
      "2              Delaware    926454      8.82  64.63  20.74    0.26   3.27   \n",
      "3  District of Columbia    647484      9.17  33.10  51.78    0.20   3.38   \n",
      "4               Florida  19645772     21.34  59.08  15.17    0.21   2.28   \n",
      "0               Alabama   4830620      3.75  61.88  31.25    0.45   1.05   \n",
      "1                Alaska    733375      5.91  60.91   2.85   16.39   5.45   \n",
      "2               Arizona   6641928     29.57  57.12   3.85    4.36   2.88   \n",
      "3              Arkansas   2958208      6.22  71.14  18.97    0.52   1.14   \n",
      "4            California  38421464     37.29  40.22   5.68    0.41  13.05   \n",
      "\n",
      "   Pacific    Income            GenderPop       Men       Women  \n",
      "0     0.04  59125.27      510388M_543273F    510388    543273.0  \n",
      "1     0.05  46296.81    2322409M_2455167F   2322409   2455167.0  \n",
      "2     0.04  51805.41      423477M_419713F    423477    419713.0  \n",
      "3     0.04  47328.08    3167756M_3331859F   3167756   3331859.0  \n",
      "4     0.07  55874.52  13171316M_13367298F  13171316  13367298.0  \n",
      "5     0.83  63488.92    1459229M_1444150F   1459229   1444150.0  \n",
      "1     0.03  55602.97      308573M_318031F    308573    318031.0  \n",
      "2     0.06  72866.01    4060948M_4195682F   4060948   4195682.0  \n",
      "3     0.61  64493.77    3487725M_3497739F   3487725   3497739.0  \n",
      "4     0.03  41437.11      913631M_937789F    913631    937789.0  \n",
      "5     0.02  53898.89    2851385M_2890732F   2851385   2890732.0  \n",
      "0     0.04  78765.40           2872643M_F   2872643   3057895.0  \n",
      "1     0.02  72838.94    3249650M_3455936F   3249650   3455936.0  \n",
      "2     0.02  51201.83    4861973M_5038598F   4861973   5038598.0  \n",
      "3     0.03  62820.83    2692166M_2727005F   2692166   2727005.0  \n",
      "4     0.02  38909.92    1451723M_1536358F   1451723   1536358.0  \n",
      "5     0.10  49763.99    2964003M_3081445F   2964003   3081445.0  \n",
      "1     0.07  47645.68            510163M_F    510163    504536.0  \n",
      "2     0.06  55916.47      929606M_939759F    929606    939759.0  \n",
      "3     0.57  55526.53    1407735M_1390901F   1407735   1390901.0  \n",
      "4     0.02  68728.86      653484M_670717F    653484    670717.0  \n",
      "5     0.03  76581.08    4343027M_4561386F   4343027   4561386.0  \n",
      "0     0.02  49655.25    5662893M_5913084F   5662893   5913084.0  \n",
      "1     0.11  48100.85    1906944M_1942789F   1906944   1942789.0  \n",
      "2     0.35  54271.90    1948453M_1990780F   1948453   1990780.0  \n",
      "3     0.02  56170.46    6245344M_6534215F   6245344   6534215.0  \n",
      "4     0.00  20720.54    1713860M_1869213F   1713860   1869213.0  \n",
      "1     0.04  47329.97    1032414M_1051703F   1032414   1051703.0  \n",
      "2     0.02  64290.75   9541801M_10131373F   9541801  10131373.0  \n",
      "3     0.05  49937.46    4795408M_5049925F   4795408   5049925.0  \n",
      "4     1.83  58188.11      367963M_353677F    367963    353677.0  \n",
      "0     0.05  50811.08    4883331M_5123362F   4883331   5123362.0  \n",
      "1     8.76  73264.43      709871M_696428F    709871    696428.0  \n",
      "2     0.13  48017.32      810464M_806083F    810464    806083.0  \n",
      "3     0.02  59587.05    6316899M_6556862F   6316899   6556862.0  \n",
      "4     0.03  48616.23    3235263M_3333382F   3235263   3333382.0  \n",
      "5     0.06  53017.75    1534595M_1558931F   1534595   1558931.0  \n",
      "1     2.77  53885.61    1439862M_1453125F   1439862   1453125.0  \n",
      "2     0.05  45285.80    2164208M_2233145F   2164208   2233145.0  \n",
      "3     0.04  44957.99    2261156M_2364097F   2261156   2364097.0  \n",
      "4     0.02  49181.97      650081M_679019F    650081    679019.0  \n",
      "0     2.54  64657.80    2648667M_2630239F   2648667   2630239.0  \n",
      "1     0.02  76146.56    1751607M_1841615F   1751607   1841615.0  \n",
      "2     2.28  61827.98      448413M_478041F    448413    478041.0  \n",
      "3     0.03  75466.36      306674M_340810F    306674    340810.0  \n",
      "4     0.05  50690.19   9600009M_10045763F   9600009  10045763.0  \n",
      "0     0.03  43296.36    2341093M_2489527F   2341093   2489527.0  \n",
      "1     1.06  70354.74      384160M_349215F    384160    349215.0  \n",
      "2     0.17  54207.82    3299088M_3342840F   3299088   3342840.0  \n",
      "3     0.15  41935.63    1451913M_1506295F   1451913   1506295.0  \n",
      "4     0.35  67264.78  19087135M_19334329F  19087135  19334329.0  \n"
     ]
    }
   ],
   "source": [
    "us_census.Hispanic = us_census['Hispanic'].replace('[\\%,]','', regex=True)\n",
    "us_census.White = us_census['White'].replace('[\\%,]','', regex=True)\n",
    "us_census.Black = us_census['Black'].replace('[\\%,]','', regex=True)\n",
    "us_census.Native = us_census['Native'].replace('[\\%,]','', regex=True)\n",
    "us_census.Asian = us_census['Asian'].replace('[\\%,]','', regex=True)\n",
    "us_census.Pacific = us_census['Pacific'].replace('[\\%,]','', regex=True)\n",
    "\n",
    "print(us_census)\n",
    "\n",
    "us_census.Hispanic = pd.to_numeric(us_census.Hispanic)\n",
    "us_census.White = pd.to_numeric(us_census.White)\n",
    "us_census.Black = pd.to_numeric(us_census.Black)\n",
    "us_census.Native = pd.to_numeric(us_census.Native)\n",
    "us_census.Asian = pd.to_numeric(us_census.Asian)\n",
    "us_census.Pacific = pd.to_numeric(us_census.Pacific)\n",
    "\n",
    "us_census = us_census.fillna(value={'Pacific': \n",
    "                                    (100-us_census.Hispanic-us_census.White\n",
    "                                     -us_census.Black-us_census.Native-us_census.Asian)})\n",
    "\n",
    "print(us_census)"
   ]
  },
  {
   "cell_type": "code",
   "execution_count": 71,
   "metadata": {},
   "outputs": [
    {
     "name": "stderr",
     "output_type": "stream",
     "text": [
      "/opt/anaconda3/lib/python3.11/site-packages/seaborn/_oldcore.py:1119: FutureWarning: use_inf_as_na option is deprecated and will be removed in a future version. Convert inf values to NaN before operating instead.\n",
      "  with pd.option_context('mode.use_inf_as_na', True):\n"
     ]
    },
    {
     "data": {
      "image/png": "[encoded data removed]",
      "text/plain": [
       "<Figure size 640x480 with 1 Axes>"
      ]
     },
     "metadata": {},
     "output_type": "display_data"
    },
    {
     "name": "stderr",
     "output_type": "stream",
     "text": [
      "/opt/anaconda3/lib/python3.11/site-packages/seaborn/_oldcore.py:1119: FutureWarning: use_inf_as_na option is deprecated and will be removed in a future version. Convert inf values to NaN before operating instead.\n",
      "  with pd.option_context('mode.use_inf_as_na', True):\n"
     ]
    },
    {
     "data": {
      "image/png": "[encoded data removed]",
      "text/plain": [
       "<Figure size 640x480 with 1 Axes>"
      ]
     },
     "metadata": {},
     "output_type": "display_data"
    },
    {
     "name": "stderr",
     "output_type": "stream",
     "text": [
      "/opt/anaconda3/lib/python3.11/site-packages/seaborn/_oldcore.py:1119: FutureWarning: use_inf_as_na option is deprecated and will be removed in a future version. Convert inf values to NaN before operating instead.\n",
      "  with pd.option_context('mode.use_inf_as_na', True):\n"
     ]
    },
    {
     "data": {
      "image/png": "[encoded data removed]",
      "text/plain": [
       "<Figure size 640x480 with 1 Axes>"
      ]
     },
     "metadata": {},
     "output_type": "display_data"
    },
    {
     "name": "stderr",
     "output_type": "stream",
     "text": [
      "/opt/anaconda3/lib/python3.11/site-packages/seaborn/_oldcore.py:1119: FutureWarning: use_inf_as_na option is deprecated and will be removed in a future version. Convert inf values to NaN before operating instead.\n",
      "  with pd.option_context('mode.use_inf_as_na', True):\n"
     ]
    },
    {
     "data": {
      "image/png": "[encoded data removed]",
      "text/plain": [
       "<Figure size 640x480 with 1 Axes>"
      ]
     },
     "metadata": {},
     "output_type": "display_data"
    },
    {
     "name": "stderr",
     "output_type": "stream",
     "text": [
      "/opt/anaconda3/lib/python3.11/site-packages/seaborn/_oldcore.py:1119: FutureWarning: use_inf_as_na option is deprecated and will be removed in a future version. Convert inf values to NaN before operating instead.\n",
      "  with pd.option_context('mode.use_inf_as_na', True):\n"
     ]
    },
    {
     "data": {
      "image/png": "[encoded data removed]",
      "text/plain": [
       "<Figure size 640x480 with 1 Axes>"
      ]
     },
     "metadata": {},
     "output_type": "display_data"
    },
    {
     "name": "stderr",
     "output_type": "stream",
     "text": [
      "/opt/anaconda3/lib/python3.11/site-packages/seaborn/_oldcore.py:1119: FutureWarning: use_inf_as_na option is deprecated and will be removed in a future version. Convert inf values to NaN before operating instead.\n",
      "  with pd.option_context('mode.use_inf_as_na', True):\n"
     ]
    },
    {
     "data": {
      "image/png": "[encoded data removed]",
      "text/plain": [
       "<Figure size 640x480 with 1 Axes>"
      ]
     },
     "metadata": {},
     "output_type": "display_data"
    },
    {
     "data": {
      "text/plain": [
       "<Figure size 640x480 with 0 Axes>"
      ]
     },
     "metadata": {},
     "output_type": "display_data"
    }
   ],
   "source": [
    "sns.histplot(us_census.Hispanic)\n",
    "plt.show()\n",
    "plt.clf()\n",
    "sns.histplot(us_census.White)\n",
    "plt.show()\n",
    "plt.clf()\n",
    "sns.histplot(us_census.Black)\n",
    "plt.show()\n",
    "plt.clf()\n",
    "sns.histplot(us_census.Native)\n",
    "plt.show()\n",
    "plt.clf()\n",
    "sns.histplot(us_census.Asian)\n",
    "plt.show()\n",
    "plt.clf()\n",
    "sns.histplot(us_census.Pacific)\n",
    "plt.show()\n",
    "plt.clf()"
   ]
  },
  {
   "cell_type": "markdown",
   "metadata": {},
   "source": [
    "## Get Creative"
   ]
  },
  {
   "cell_type": "markdown",
   "metadata": {},
   "source": [
    "15. Phew. You've definitely impressed your boss on your first day of work.\n",
    "\n",
    "    But is there a way you really convey the power of pandas and Python over the drudgery of `csv` and Excel?\n",
    "    \n",
    "    Try to make some more interesting graphs to show your boss, and the world! You may need to clean the data even more to do it, or the cleaning you have already done may give you the ease of manipulation you've been searching for."
   ]
  },
  {
   "cell_type": "code",
   "execution_count": null,
   "metadata": {},
   "outputs": [],
   "source": []
  }
 ],
 "metadata": {
  "kernelspec": {
   "display_name": "Python 3 (ipykernel)",
   "language": "python",
   "name": "python3"
  },
  "language_info": {
   "codemirror_mode": {
    "name": "ipython",
    "version": 3
   },
   "file_extension": ".py",
   "mimetype": "text/x-python",
   "name": "python",
   "nbconvert_exporter": "python",
   "pygments_lexer": "ipython3",
   "version": "3.11.7"
  }
 },
 "nbformat": 4,
 "nbformat_minor": 2
}

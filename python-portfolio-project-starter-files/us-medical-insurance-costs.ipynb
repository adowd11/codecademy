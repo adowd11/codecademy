{
 "cells": [
  {
   "cell_type": "markdown",
   "metadata": {},
   "source": [
    "# U.S. Medical Insurance Costs"
   ]
  },
  {
   "cell_type": "markdown",
   "metadata": {},
   "source": [
    "- Find out the average age of the patients in the dataset.\n",
    "- Analyze where a majority of the individuals are from.\n",
    "- Look at the different costs between smokers vs. non-smokers.\n",
    "- Figure out what the average age is for someone who has at least one child in this dataset."
   ]
  },
  {
   "cell_type": "code",
   "execution_count": 95,
   "metadata": {},
   "outputs": [],
   "source": [
    "import csv\n",
    "import pandas as pd\n",
    "import numpy as np"
   ]
  },
  {
   "cell_type": "code",
   "execution_count": 96,
   "metadata": {},
   "outputs": [],
   "source": [
    "# with open('insurance.csv') as insurance:\n",
    "#     print(insurance.read())\n",
    "\n",
    "age = []\n",
    "sex = []\n",
    "bmi = []\n",
    "children = []\n",
    "smoker = []\n",
    "region = []\n",
    "charges = []\n",
    "\n",
    "with open('insurance.csv') as insurance_file:\n",
    "    reader = csv.DictReader(insurance_file)\n",
    "    for row in reader:\n",
    "        age.append(row['age'])\n",
    "        sex.append(row['sex'])\n",
    "        bmi.append(row['bmi'])\n",
    "        children.append(row['children'])\n",
    "        smoker.append(row['smoker'])\n",
    "        region.append(row['region'])\n",
    "        charges.append(row['charges'])"
   ]
  },
  {
   "cell_type": "markdown",
   "metadata": {},
   "source": [
    "- Find out the average age of the patients in the dataset."
   ]
  },
  {
   "cell_type": "code",
   "execution_count": 97,
   "metadata": {},
   "outputs": [
    {
     "data": {
      "text/plain": [
       "39"
      ]
     },
     "execution_count": 97,
     "metadata": {},
     "output_type": "execute_result"
    }
   ],
   "source": [
    "def avg_age(age_list):\n",
    "    total_age = 0\n",
    "    for i in age_list:\n",
    "        total_age += int(i)\n",
    "    \n",
    "    average_age = round(total_age / len(age_list))\n",
    "    return average_age\n",
    "\n",
    "avg_age(age)"
   ]
  },
  {
   "cell_type": "markdown",
   "metadata": {},
   "source": [
    "the average age is 39 years old"
   ]
  },
  {
   "cell_type": "markdown",
   "metadata": {},
   "source": [
    "- Analyze where a majority of the individuals are from."
   ]
  },
  {
   "cell_type": "code",
   "execution_count": 98,
   "metadata": {},
   "outputs": [
    {
     "data": {
      "text/plain": [
       "{'southwest': 325, 'southeast': 364, 'northwest': 325, 'northeast': 324}"
      ]
     },
     "execution_count": 98,
     "metadata": {},
     "output_type": "execute_result"
    }
   ],
   "source": [
    "def region_details(region_list):\n",
    "    unique_regions = []\n",
    "    region_count = []\n",
    "    for i in region_list:\n",
    "        if i in unique_regions:\n",
    "            continue\n",
    "        else:\n",
    "            unique_regions.append(i)\n",
    "    \n",
    "    for i in unique_regions:\n",
    "        region_count.append(region_list.count(i))\n",
    "    \n",
    "    region_summary = {region:count for region, count in zip(unique_regions, region_count)}\n",
    "    return region_summary\n",
    "\n",
    "region_details(region)"
   ]
  },
  {
   "cell_type": "markdown",
   "metadata": {},
   "source": [
    "the majority of the people are from the south, with the greatest number from the southeast"
   ]
  },
  {
   "cell_type": "markdown",
   "metadata": {},
   "source": [
    "- Look at the different costs between smokers vs. non-smokers."
   ]
  },
  {
   "cell_type": "code",
   "execution_count": 99,
   "metadata": {},
   "outputs": [
    {
     "data": {
      "text/plain": [
       "{'smoker': 32050.23, 'non-smoker': 8434.27}"
      ]
     },
     "execution_count": 99,
     "metadata": {},
     "output_type": "execute_result"
    }
   ],
   "source": [
    "def avg_smoke_status_cost(smoker, charges):\n",
    "    smoker_total = 0\n",
    "    smoker_count = 0\n",
    "    nonsmoker_total = 0\n",
    "    nonsmoker_count = 0\n",
    "    cost_by_status = {}\n",
    "    for i in range(len(smoker)):\n",
    "        status = smoker[i]\n",
    "        if status == 'yes':\n",
    "            smoker_count += 1\n",
    "            smoker_total += float(charges[i])\n",
    "        else:\n",
    "            nonsmoker_count += 1\n",
    "            nonsmoker_total += float(charges[i])\n",
    "    smoker_avg = round(smoker_total/smoker_count,2)\n",
    "    nonsmoker_avg = round(nonsmoker_total/nonsmoker_count,2)\n",
    "    cost_by_status['smoker'] = smoker_avg\n",
    "    cost_by_status['non-smoker'] = nonsmoker_avg\n",
    "    return cost_by_status\n",
    "\n",
    "avg_smoke_status_cost(smoker, charges)"
   ]
  },
  {
   "cell_type": "markdown",
   "metadata": {},
   "source": [
    "the average charges for smokers is 32050.23 and the average charges for non-smokers is 8434.27"
   ]
  },
  {
   "cell_type": "markdown",
   "metadata": {},
   "source": [
    "- Figure out what the average age is for someone who has at least one child in this dataset."
   ]
  },
  {
   "cell_type": "code",
   "execution_count": 100,
   "metadata": {},
   "outputs": [
    {
     "data": {
      "text/plain": [
       "23"
      ]
     },
     "execution_count": 100,
     "metadata": {},
     "output_type": "execute_result"
    }
   ],
   "source": [
    "def avg_age_parent(children, age):\n",
    "    total_age = 0\n",
    "    for i in range(len(children)):\n",
    "        child_count = int(children[i])\n",
    "        if child_count > 0:\n",
    "            total_age += int(age[i])\n",
    "        avg_age = round(total_age/len(age))\n",
    "    return avg_age\n",
    "\n",
    "avg_age_parent(children, age)"
   ]
  },
  {
   "cell_type": "markdown",
   "metadata": {},
   "source": [
    "the average age of someone with at least one child is 23"
   ]
  },
  {
   "cell_type": "code",
   "execution_count": null,
   "metadata": {},
   "outputs": [],
   "source": []
  }
 ],
 "metadata": {
  "kernelspec": {
   "display_name": "Python 3 (ipykernel)",
   "language": "python",
   "name": "python3"
  },
  "language_info": {
   "codemirror_mode": {
    "name": "ipython",
    "version": 3
   },
   "file_extension": ".py",
   "mimetype": "text/x-python",
   "name": "python",
   "nbconvert_exporter": "python",
   "pygments_lexer": "ipython3",
   "version": "3.11.8"
  }
 },
 "nbformat": 4,
 "nbformat_minor": 4
}
